{
 "cells": [
  {
   "cell_type": "code",
   "execution_count": 478,
   "id": "5093cf3f",
   "metadata": {},
   "outputs": [],
   "source": [
    "import pandas as pd\n",
    "from sklearn.linear_model import LogisticRegression\n",
    "from sklearn.metrics import log_loss\n",
    "from sklearn.preprocessing import MinMaxScaler,StandardScaler\n",
    "import numpy as np\n",
    "import math\n",
    "from ucimlrepo import fetch_ucirepo \n",
    "from scipy.optimize import line_search\n",
    "import matplotlib.pyplot as plt"
   ]
  },
  {
   "cell_type": "code",
   "execution_count": 469,
   "id": "e36637eb",
   "metadata": {},
   "outputs": [],
   "source": [
    "wine = fetch_ucirepo(id=109) \n",
    "\n",
    "X = wine.data.features \n",
    "y = wine.data.targets"
   ]
  },
  {
   "cell_type": "code",
   "execution_count": 470,
   "id": "fcfca0a5",
   "metadata": {},
   "outputs": [
    {
     "data": {
      "text/plain": [
       "class\n",
       "2    71\n",
       "1    59\n",
       "Name: count, dtype: int64"
      ]
     },
     "execution_count": 470,
     "metadata": {},
     "output_type": "execute_result"
    }
   ],
   "source": [
    "X = X[:130]\n",
    "y = y[:130]\n",
    "y['class'].value_counts()"
   ]
  },
  {
   "cell_type": "code",
   "execution_count": 471,
   "id": "89dc4b4d",
   "metadata": {},
   "outputs": [
    {
     "data": {
      "text/html": [
       "<div>\n",
       "<style scoped>\n",
       "    .dataframe tbody tr th:only-of-type {\n",
       "        vertical-align: middle;\n",
       "    }\n",
       "\n",
       "    .dataframe tbody tr th {\n",
       "        vertical-align: top;\n",
       "    }\n",
       "\n",
       "    .dataframe thead th {\n",
       "        text-align: right;\n",
       "    }\n",
       "</style>\n",
       "<table border=\"1\" class=\"dataframe\">\n",
       "  <thead>\n",
       "    <tr style=\"text-align: right;\">\n",
       "      <th></th>\n",
       "      <th>Alcohol</th>\n",
       "      <th>Malicacid</th>\n",
       "      <th>Ash</th>\n",
       "      <th>Alcalinity_of_ash</th>\n",
       "      <th>Magnesium</th>\n",
       "      <th>Total_phenols</th>\n",
       "      <th>Flavanoids</th>\n",
       "      <th>Nonflavanoid_phenols</th>\n",
       "      <th>Proanthocyanins</th>\n",
       "      <th>Color_intensity</th>\n",
       "      <th>Hue</th>\n",
       "      <th>0D280_0D315_of_diluted_wines</th>\n",
       "      <th>Proline</th>\n",
       "    </tr>\n",
       "  </thead>\n",
       "  <tbody>\n",
       "    <tr>\n",
       "      <th>count</th>\n",
       "      <td>1.300000e+02</td>\n",
       "      <td>1.300000e+02</td>\n",
       "      <td>1.300000e+02</td>\n",
       "      <td>1.300000e+02</td>\n",
       "      <td>1.300000e+02</td>\n",
       "      <td>1.300000e+02</td>\n",
       "      <td>1.300000e+02</td>\n",
       "      <td>1.300000e+02</td>\n",
       "      <td>1.300000e+02</td>\n",
       "      <td>1.300000e+02</td>\n",
       "      <td>1.300000e+02</td>\n",
       "      <td>1.300000e+02</td>\n",
       "      <td>1.300000e+02</td>\n",
       "    </tr>\n",
       "    <tr>\n",
       "      <th>mean</th>\n",
       "      <td>7.651999e-16</td>\n",
       "      <td>1.708035e-17</td>\n",
       "      <td>2.732857e-16</td>\n",
       "      <td>1.639714e-16</td>\n",
       "      <td>-3.825999e-16</td>\n",
       "      <td>-1.639714e-16</td>\n",
       "      <td>2.732857e-16</td>\n",
       "      <td>-3.825999e-16</td>\n",
       "      <td>-8.198570e-17</td>\n",
       "      <td>2.732857e-16</td>\n",
       "      <td>-5.773160e-16</td>\n",
       "      <td>9.018427e-16</td>\n",
       "      <td>-1.093143e-16</td>\n",
       "    </tr>\n",
       "    <tr>\n",
       "      <th>std</th>\n",
       "      <td>1.003868e+00</td>\n",
       "      <td>1.003868e+00</td>\n",
       "      <td>1.003868e+00</td>\n",
       "      <td>1.003868e+00</td>\n",
       "      <td>1.003868e+00</td>\n",
       "      <td>1.003868e+00</td>\n",
       "      <td>1.003868e+00</td>\n",
       "      <td>1.003868e+00</td>\n",
       "      <td>1.003868e+00</td>\n",
       "      <td>1.003868e+00</td>\n",
       "      <td>1.003868e+00</td>\n",
       "      <td>1.003868e+00</td>\n",
       "      <td>1.003868e+00</td>\n",
       "    </tr>\n",
       "    <tr>\n",
       "      <th>min</th>\n",
       "      <td>-2.161957e+00</td>\n",
       "      <td>-1.400991e+00</td>\n",
       "      <td>-3.312182e+00</td>\n",
       "      <td>-2.416453e+00</td>\n",
       "      <td>-1.951429e+00</td>\n",
       "      <td>-2.618653e+00</td>\n",
       "      <td>-2.612521e+00</td>\n",
       "      <td>-1.842617e+00</td>\n",
       "      <td>-2.497495e+00</td>\n",
       "      <td>-1.799777e+00</td>\n",
       "      <td>-2.195268e+00</td>\n",
       "      <td>-2.882492e+00</td>\n",
       "      <td>-1.458310e+00</td>\n",
       "    </tr>\n",
       "    <tr>\n",
       "      <th>25%</th>\n",
       "      <td>-8.093764e-01</td>\n",
       "      <td>-5.225744e-01</td>\n",
       "      <td>-5.758509e-01</td>\n",
       "      <td>-6.673009e-01</td>\n",
       "      <td>-7.766557e-01</td>\n",
       "      <td>-6.905910e-01</td>\n",
       "      <td>-6.633354e-01</td>\n",
       "      <td>-6.462964e-01</td>\n",
       "      <td>-6.137474e-01</td>\n",
       "      <td>-8.226336e-01</td>\n",
       "      <td>-7.075249e-01</td>\n",
       "      <td>-4.687685e-01</td>\n",
       "      <td>-9.001514e-01</td>\n",
       "    </tr>\n",
       "    <tr>\n",
       "      <th>50%</th>\n",
       "      <td>7.446037e-02</td>\n",
       "      <td>-2.715983e-01</td>\n",
       "      <td>-6.912290e-02</td>\n",
       "      <td>-6.948922e-02</td>\n",
       "      <td>-1.240038e-01</td>\n",
       "      <td>6.866973e-02</td>\n",
       "      <td>1.020516e-01</td>\n",
       "      <td>-2.781977e-01</td>\n",
       "      <td>-8.815866e-02</td>\n",
       "      <td>-2.005346e-01</td>\n",
       "      <td>-5.291788e-02</td>\n",
       "      <td>5.411680e-02</td>\n",
       "      <td>-2.109963e-01</td>\n",
       "    </tr>\n",
       "    <tr>\n",
       "      <th>75%</th>\n",
       "      <td>8.848793e-01</td>\n",
       "      <td>1.020139e-01</td>\n",
       "      <td>6.318509e-01</td>\n",
       "      <td>6.390283e-01</td>\n",
       "      <td>5.286480e-01</td>\n",
       "      <td>7.635083e-01</td>\n",
       "      <td>6.905492e-01</td>\n",
       "      <td>6.190429e-01</td>\n",
       "      <td>4.699887e-01</td>\n",
       "      <td>7.287547e-01</td>\n",
       "      <td>6.463214e-01</td>\n",
       "      <td>7.301706e-01</td>\n",
       "      <td>7.793083e-01</td>\n",
       "    </tr>\n",
       "    <tr>\n",
       "      <th>max</th>\n",
       "      <td>2.130157e+00</td>\n",
       "      <td>4.371460e+00</td>\n",
       "      <td>3.005027e+00</td>\n",
       "      <td>3.310730e+00</td>\n",
       "      <td>4.052968e+00</td>\n",
       "      <td>2.498304e+00</td>\n",
       "      <td>3.524182e+00</td>\n",
       "      <td>3.034691e+00</td>\n",
       "      <td>3.400262e+00</td>\n",
       "      <td>2.905329e+00</td>\n",
       "      <td>3.874724e+00</td>\n",
       "      <td>2.209038e+00</td>\n",
       "      <td>2.534233e+00</td>\n",
       "    </tr>\n",
       "  </tbody>\n",
       "</table>\n",
       "</div>"
      ],
      "text/plain": [
       "            Alcohol     Malicacid           Ash  Alcalinity_of_ash  \\\n",
       "count  1.300000e+02  1.300000e+02  1.300000e+02       1.300000e+02   \n",
       "mean   7.651999e-16  1.708035e-17  2.732857e-16       1.639714e-16   \n",
       "std    1.003868e+00  1.003868e+00  1.003868e+00       1.003868e+00   \n",
       "min   -2.161957e+00 -1.400991e+00 -3.312182e+00      -2.416453e+00   \n",
       "25%   -8.093764e-01 -5.225744e-01 -5.758509e-01      -6.673009e-01   \n",
       "50%    7.446037e-02 -2.715983e-01 -6.912290e-02      -6.948922e-02   \n",
       "75%    8.848793e-01  1.020139e-01  6.318509e-01       6.390283e-01   \n",
       "max    2.130157e+00  4.371460e+00  3.005027e+00       3.310730e+00   \n",
       "\n",
       "          Magnesium  Total_phenols    Flavanoids  Nonflavanoid_phenols  \\\n",
       "count  1.300000e+02   1.300000e+02  1.300000e+02          1.300000e+02   \n",
       "mean  -3.825999e-16  -1.639714e-16  2.732857e-16         -3.825999e-16   \n",
       "std    1.003868e+00   1.003868e+00  1.003868e+00          1.003868e+00   \n",
       "min   -1.951429e+00  -2.618653e+00 -2.612521e+00         -1.842617e+00   \n",
       "25%   -7.766557e-01  -6.905910e-01 -6.633354e-01         -6.462964e-01   \n",
       "50%   -1.240038e-01   6.866973e-02  1.020516e-01         -2.781977e-01   \n",
       "75%    5.286480e-01   7.635083e-01  6.905492e-01          6.190429e-01   \n",
       "max    4.052968e+00   2.498304e+00  3.524182e+00          3.034691e+00   \n",
       "\n",
       "       Proanthocyanins  Color_intensity           Hue  \\\n",
       "count     1.300000e+02     1.300000e+02  1.300000e+02   \n",
       "mean     -8.198570e-17     2.732857e-16 -5.773160e-16   \n",
       "std       1.003868e+00     1.003868e+00  1.003868e+00   \n",
       "min      -2.497495e+00    -1.799777e+00 -2.195268e+00   \n",
       "25%      -6.137474e-01    -8.226336e-01 -7.075249e-01   \n",
       "50%      -8.815866e-02    -2.005346e-01 -5.291788e-02   \n",
       "75%       4.699887e-01     7.287547e-01  6.463214e-01   \n",
       "max       3.400262e+00     2.905329e+00  3.874724e+00   \n",
       "\n",
       "       0D280_0D315_of_diluted_wines       Proline  \n",
       "count                  1.300000e+02  1.300000e+02  \n",
       "mean                   9.018427e-16 -1.093143e-16  \n",
       "std                    1.003868e+00  1.003868e+00  \n",
       "min                   -2.882492e+00 -1.458310e+00  \n",
       "25%                   -4.687685e-01 -9.001514e-01  \n",
       "50%                    5.411680e-02 -2.109963e-01  \n",
       "75%                    7.301706e-01  7.793083e-01  \n",
       "max                    2.209038e+00  2.534233e+00  "
      ]
     },
     "execution_count": 471,
     "metadata": {},
     "output_type": "execute_result"
    }
   ],
   "source": [
    "#scaler = MinMaxScaler()\n",
    "scaler = StandardScaler()\n",
    "\n",
    "df_norm = pd.DataFrame(scaler.fit_transform(X), columns=X.columns)\n",
    "df_norm.describe()"
   ]
  },
  {
   "cell_type": "code",
   "execution_count": 472,
   "id": "96a09b43",
   "metadata": {},
   "outputs": [],
   "source": [
    "X = df_norm.to_numpy()\n",
    "y = np.array([i-1 for i in list(y['class'])])"
   ]
  },
  {
   "cell_type": "code",
   "execution_count": 473,
   "id": "7e3767b1",
   "metadata": {},
   "outputs": [
    {
     "data": {
      "text/plain": [
       "7.292437743938115e-07"
      ]
     },
     "execution_count": 473,
     "metadata": {},
     "output_type": "execute_result"
    }
   ],
   "source": [
    "model = LogisticRegression(penalty = None,max_iter=200).fit(X,y)\n",
    "y_prob = model.predict_proba(X)\n",
    "loss_lreg = log_loss(y, y_prob)\n",
    "loss_lreg"
   ]
  },
  {
   "cell_type": "code",
   "execution_count": 474,
   "id": "bc1cff2d",
   "metadata": {},
   "outputs": [],
   "source": [
    "def logistic(y):\n",
    "    return 1.0/(1+np.exp(-y))\n",
    "\n",
    "def logloss(X,w,y):\n",
    "    y_prob = logistic(np.dot(X,w))\n",
    "    return log_loss(y, y_prob)"
   ]
  },
  {
   "cell_type": "code",
   "execution_count": 475,
   "id": "78abfc65",
   "metadata": {},
   "outputs": [],
   "source": [
    "def hessian(X,y_prob):\n",
    "    return np.matmul(np.matmul(X.T,np.diag(y_prob)),X)"
   ]
  },
  {
   "cell_type": "code",
   "execution_count": 476,
   "id": "43a6e5d8",
   "metadata": {},
   "outputs": [
    {
     "name": "stdout",
     "output_type": "stream",
     "text": [
      "Iteration: 0   loss: 0.6903904603886847\n",
      "Iteration: 10000   loss: 0.00018854732457440748\n",
      "Iteration: 20000   loss: 9.734707455094677e-05\n",
      "Iteration: 30000   loss: 6.58356747070647e-05\n",
      "Iteration: 40000   loss: 4.980841648981822e-05\n",
      "Iteration: 50000   loss: 4.008866283634282e-05\n",
      "Iteration: 60000   loss: 3.35596095926181e-05\n",
      "Iteration: 70000   loss: 2.8869116232329535e-05\n",
      "Iteration: 80000   loss: 2.5335113910391005e-05\n",
      "Iteration: 90000   loss: 2.257607786351572e-05\n",
      "Iteration: 100000   loss: 2.0361828921225497e-05\n",
      "Iteration: 110000   loss: 1.8545217197030153e-05\n",
      "Iteration: 120000   loss: 1.702776040368502e-05\n",
      "Iteration: 130000   loss: 1.5741048647411e-05\n",
      "Iteration: 140000   loss: 1.4636073261160829e-05\n",
      "Iteration: 150000   loss: 1.367680028495526e-05\n",
      "Iteration: 160000   loss: 1.2836140674669176e-05\n",
      "Iteration: 170000   loss: 1.2093335300771136e-05\n",
      "Iteration: 180000   loss: 1.1432206959812491e-05\n",
      "Iteration: 190000   loss: 1.0839961556357441e-05\n",
      "Iteration: 200000   loss: 1.0306347164872382e-05\n"
     ]
    }
   ],
   "source": [
    "def coordinate_descent_gradient(X,y,max_iter,lr=.1):\n",
    "    X = np.insert(X,0,1,axis=1)\n",
    "    n_samples = X.shape[0]\n",
    "    n_features = X.shape[1]\n",
    "    weights = np.random.normal(0, 0.01, n_features)\n",
    "    initial_loss = logloss(X,weights,y)\n",
    "    ls = [initial_loss]\n",
    "    print(\"Iteration: 0\" + \"   loss: \"+str(initial_loss))\n",
    "    for i in range(max_iter):\n",
    "        y_prob = logistic(np.dot(X,weights))\n",
    "        grad = np.dot(X.T,(y_prob-y))#/n_samples\n",
    "        pick = np.argmax(np.abs(grad))\n",
    "        weights[pick] -= lr*grad[pick]\n",
    "        loss = logloss(X,weights,y)\n",
    "        ls.append(loss)\n",
    "        if((i+1)%10000==0):\n",
    "            print(\"Iteration: \"+ str(i+1) + \"   loss: \"+str(loss))\n",
    "        #print(weights)\n",
    "    return ls\n",
    "        \n",
    "#coordinate_descent_gradient(X,y,)  \n",
    "loss1s = coordinate_descent_gradient(X,y,200000)  "
   ]
  },
  {
   "cell_type": "code",
   "execution_count": 498,
   "id": "f343f4fe",
   "metadata": {},
   "outputs": [
    {
     "name": "stdout",
     "output_type": "stream",
     "text": [
      "Iteration: 0   loss: 0.6971138504294091\n",
      "Iteration: 10000   loss: 0.0011934181297882263\n",
      "Iteration: 20000   loss: 0.0006310008130747647\n",
      "Iteration: 30000   loss: 0.0004297510687675009\n",
      "Iteration: 40000   loss: 0.0003227398015914253\n",
      "Iteration: 50000   loss: 0.00026030449853506777\n",
      "Iteration: 60000   loss: 0.0002181882535222798\n",
      "Iteration: 70000   loss: 0.0001883242600103548\n",
      "Iteration: 80000   loss: 0.00016566028925278477\n",
      "Iteration: 90000   loss: 0.00014801165778837336\n",
      "Iteration: 100000   loss: 0.0001338638662150378\n",
      "Iteration: 110000   loss: 0.0001221032658136578\n",
      "Iteration: 120000   loss: 0.0001122567221525208\n",
      "Iteration: 130000   loss: 0.00010370774317911805\n",
      "Iteration: 140000   loss: 9.631099610261816e-05\n",
      "Iteration: 150000   loss: 8.997952721573228e-05\n",
      "Iteration: 160000   loss: 8.453116860916722e-05\n",
      "Iteration: 170000   loss: 7.962259483470823e-05\n",
      "Iteration: 180000   loss: 7.540252341931665e-05\n",
      "Iteration: 190000   loss: 7.156985410463349e-05\n",
      "Iteration: 200000   loss: 6.81038624080378e-05\n"
     ]
    }
   ],
   "source": [
    "def coordinate_descent_random_gradient(X,y,max_iter,lr=.1):\n",
    "    X = np.insert(X,0,1,axis=1)\n",
    "    n_samples = X.shape[0]\n",
    "    n_features = X.shape[1]\n",
    "    weights = np.random.normal(0, 0.01, n_features)\n",
    "    initial_loss = logloss(X,weights,y)\n",
    "    ls = [initial_loss]\n",
    "    print(\"Iteration: 0\" + \"   loss: \"+str(initial_loss))\n",
    "    for i in range(max_iter):\n",
    "        y_prob = logistic(np.dot(X,weights))\n",
    "        grad = np.dot(X.T,(y_prob-y))#/n_samples\n",
    "        pick = np.random.randint(0, 13)\n",
    "        weights[pick] -= lr*grad[pick]\n",
    "        loss = logloss(X,weights,y)\n",
    "        ls.append(loss)\n",
    "        if((i+1)%10000==0):\n",
    "            print(\"Iteration: \"+ str(i+1) + \"   loss: \"+str(loss))\n",
    "    return ls\n",
    "        \n",
    "loss1r = coordinate_descent_random_gradient(X,y,200000)   "
   ]
  },
  {
   "cell_type": "code",
   "execution_count": 526,
   "id": "41ae20fd",
   "metadata": {},
   "outputs": [
    {
     "data": {
      "image/png": "[encoded data removed]",
      "text/plain": [
       "<Figure size 640x480 with 1 Axes>"
      ]
     },
     "metadata": {},
     "output_type": "display_data"
    }
   ],
   "source": [
    "n = 1000\n",
    "start = 0\n",
    "x = [i+start for i in range(n)]\n",
    "lreg = [loss_lreg for i in range(n)]\n",
    "plt.plot(x,loss1s[start:n+start], label = \"Max update selection\")\n",
    "plt.plot(x,loss1r[start:n+start], label = \"Random Selection\")\n",
    "plt.plot(x,lreg[:n], label = \"Logistic Regression\")\n",
    "\n",
    "plt.xlabel(\"Iterations\")\n",
    "plt.ylabel(\"Log loss\")\n",
    "\n",
    "plt.legend() \n",
    "plt.show()"
   ]
  },
  {
   "cell_type": "code",
   "execution_count": 527,
   "id": "76b416b0",
   "metadata": {},
   "outputs": [
    {
     "data": {
      "image/png": "[encoded data removed]",
      "text/plain": [
       "<Figure size 640x480 with 1 Axes>"
      ]
     },
     "metadata": {},
     "output_type": "display_data"
    }
   ],
   "source": [
    "n = 100000\n",
    "start = 1000\n",
    "x = [i+start for i in range(n)]\n",
    "lreg = [loss_lreg for i in range(n)]\n",
    "plt.plot(x,loss1s[start:n+start], label = \"Max update selection\")\n",
    "plt.plot(x,loss1r[start:n+start], label = \"Random Selection\")\n",
    "plt.plot(x,lreg[:n], label = \"Logistic Regression\")\n",
    "\n",
    "plt.xlabel(\"Iterations\")\n",
    "plt.ylabel(\"Log loss\")\n",
    "\n",
    "plt.legend() \n",
    "plt.show()"
   ]
  },
  {
   "cell_type": "code",
   "execution_count": 518,
   "id": "fb5a23ce",
   "metadata": {},
   "outputs": [
    {
     "name": "stdout",
     "output_type": "stream",
     "text": [
      "Iteration: 0   loss: 0.7017863340494186\n",
      "Iteration: 10000   loss: 0.0027498909207778486\n",
      "Iteration: 20000   loss: 0.0015844752332797526\n",
      "Iteration: 30000   loss: 0.0011213378633768215\n",
      "Iteration: 40000   loss: 0.0008709421571232945\n",
      "Iteration: 50000   loss: 0.0007135448621648047\n",
      "Iteration: 60000   loss: 0.000605236313882924\n",
      "Iteration: 70000   loss: 0.00052602698425397\n",
      "Iteration: 80000   loss: 0.000465544031636318\n",
      "Iteration: 90000   loss: 0.00041777390259912085\n",
      "Iteration: 100000   loss: 0.0003790970111569904\n",
      "Iteration: 110000   loss: 0.0003471119941356405\n",
      "Iteration: 120000   loss: 0.0003202153606048875\n",
      "Iteration: 130000   loss: 0.0002972687711021797\n",
      "Iteration: 140000   loss: 0.0002774619953674894\n",
      "Iteration: 150000   loss: 0.0002601772434921201\n",
      "Iteration: 160000   loss: 0.00024497049505741884\n",
      "Iteration: 170000   loss: 0.00023147699964640086\n",
      "Iteration: 180000   loss: 0.00021942481893382726\n",
      "Iteration: 190000   loss: 0.00020859394738823473\n",
      "Iteration: 200000   loss: 0.00019880183760410223\n"
     ]
    }
   ],
   "source": [
    "def coordinate_descent_hessian(X,y,max_iter):\n",
    "    X = np.insert(X,0,1,axis=1)\n",
    "    n_samples = X.shape[0]\n",
    "    n_features = X.shape[1]\n",
    "    weights = np.random.normal(0, 0.01, n_features)\n",
    "    initial_loss = logloss(X,weights,y)\n",
    "    ls = [initial_loss]\n",
    "    print(\"Iteration: 0\" + \"   loss: \"+str(initial_loss))\n",
    "    for i in range(max_iter):\n",
    "        y_prob = logistic(np.dot(X,weights))\n",
    "        \n",
    "        grad = np.dot(X.T,(y_prob-y))#/n_samples\n",
    "        H = (hessian(X,y_prob))\n",
    "        H_inv = np.linalg.inv(H)\n",
    "        \n",
    "        delta = np.matmul(H_inv,grad)\n",
    "        pick = np.argmax(np.abs(delta))\n",
    "        #pick = np.argmax(np.abs(grad))\n",
    "        \n",
    "        weights[pick] -= delta[pick]\n",
    "        loss = logloss(X,weights,y)\n",
    "        ls.append(loss)\n",
    "\n",
    "        if((i+1)%10000==0):\n",
    "            print(\"Iteration: \"+ str(i+1) + \"   loss: \"+str(loss))\n",
    "    return ls\n",
    "        \n",
    "loss2s = coordinate_descent_hessian(X,y,200000)   "
   ]
  },
  {
   "cell_type": "code",
   "execution_count": 521,
   "id": "d348ac83",
   "metadata": {},
   "outputs": [
    {
     "name": "stdout",
     "output_type": "stream",
     "text": [
      "Iteration: 0   loss: 0.691557503663448\n",
      "Iteration: 10000   loss: 0.32168843239672995\n",
      "Iteration: 20000   loss: 0.31631499610803193\n",
      "Iteration: 30000   loss: 0.3174075101235929\n",
      "Iteration: 40000   loss: 0.31738904181189115\n",
      "Iteration: 50000   loss: 0.3172671650175636\n",
      "Iteration: 60000   loss: 0.31722294791055533\n",
      "Iteration: 70000   loss: 0.3172052958045988\n",
      "Iteration: 80000   loss: 0.31719880244312537\n",
      "Iteration: 90000   loss: 0.3171962389483934\n",
      "Iteration: 100000   loss: 0.3171952866487816\n",
      "Iteration: 110000   loss: 0.3171949445027117\n",
      "Iteration: 120000   loss: 0.3171948404498702\n",
      "Iteration: 130000   loss: 0.31719480666039485\n",
      "Iteration: 140000   loss: 0.3171947958329806\n",
      "Iteration: 150000   loss: 0.3171947908788463\n",
      "Iteration: 160000   loss: 0.3171947892840135\n",
      "Iteration: 170000   loss: 0.3171947887699575\n",
      "Iteration: 180000   loss: 0.31719478858771843\n",
      "Iteration: 190000   loss: 0.31719478851677796\n",
      "Iteration: 200000   loss: 0.31719478849299515\n"
     ]
    }
   ],
   "source": [
    "def coordinate_descent_random_hessian(X,y,max_iter):\n",
    "    X = np.insert(X,0,1,axis=1)\n",
    "    n_samples = X.shape[0]\n",
    "    n_features = X.shape[1]\n",
    "    weights = np.random.normal(0, 0.001, n_features)\n",
    "    initial_loss = logloss(X,weights,y)\n",
    "    ls = [initial_loss]\n",
    "    print(\"Iteration: 0\" + \"   loss: \"+str(initial_loss))\n",
    "    for i in range(max_iter):\n",
    "        y_prob = logistic(np.dot(X,weights))\n",
    "        \n",
    "        grad = np.dot(X.T,(y_prob-y))/n_samples\n",
    "        H = (hessian(X,y_prob))\n",
    "        H_inv = np.linalg.inv(H)\n",
    "        \n",
    "        delta = np.matmul(H_inv,grad)\n",
    "        pick = np.random.randint(0, 13)\n",
    "        #print(pick)\n",
    "        #pick = np.argmax(np.abs(delta))\n",
    "        \n",
    "        weights[pick] -= delta[pick]\n",
    "        loss = logloss(X,weights,y)\n",
    "        ls.append(loss)\n",
    "\n",
    "        if((i+1)%10000==0):\n",
    "            print(\"Iteration: \"+ str(i+1) + \"   loss: \"+str(loss))\n",
    "    return ls\n",
    "        \n",
    "loss2r = coordinate_descent_random_hessian(X,y,200000)   "
   ]
  },
  {
   "cell_type": "code",
   "execution_count": 528,
   "id": "2adc19bd",
   "metadata": {},
   "outputs": [
    {
     "data": {
      "image/png": "[encoded data removed]",
      "text/plain": [
       "<Figure size 640x480 with 1 Axes>"
      ]
     },
     "metadata": {},
     "output_type": "display_data"
    }
   ],
   "source": [
    "n = 100000\n",
    "start = 0\n",
    "x = [i+start for i in range(n)]\n",
    "lreg = [loss_lreg for i in range(n)]\n",
    "plt.plot(x,loss2s[start:n+start], label = \"Max update selection\")\n",
    "plt.plot(x,loss2r[start:n+start], label = \"Random Selection\")\n",
    "plt.plot(x,lreg[:n], label = \"Logistic Regression\")\n",
    "\n",
    "plt.xlabel(\"Iterations\")\n",
    "plt.ylabel(\"Log loss\")\n",
    "\n",
    "plt.legend() \n",
    "plt.show()"
   ]
  },
  {
   "cell_type": "code",
   "execution_count": null,
   "id": "0f320d34",
   "metadata": {},
   "outputs": [],
   "source": []
  }
 ],
 "metadata": {
  "kernelspec": {
   "display_name": "Python 3 (ipykernel)",
   "language": "python",
   "name": "python3"
  },
  "language_info": {
   "codemirror_mode": {
    "name": "ipython",
    "version": 3
   },
   "file_extension": ".py",
   "mimetype": "text/x-python",
   "name": "python",
   "nbconvert_exporter": "python",
   "pygments_lexer": "ipython3",
   "version": "3.11.5"
  }
 },
 "nbformat": 4,
 "nbformat_minor": 5
}
