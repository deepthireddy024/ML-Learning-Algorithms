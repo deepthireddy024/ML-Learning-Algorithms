{
 "cells": [
  {
   "cell_type": "code",
   "execution_count": 141,
   "id": "b41c3ec9",
   "metadata": {},
   "outputs": [],
   "source": [
    "import idx2numpy\n",
    "import numpy as np\n",
    "from sklearn.cluster import KMeans\n",
    "from sklearn.neighbors import KNeighborsClassifier\n",
    "import random\n",
    "from collections import Counter\n",
    "from sklearn.metrics import precision_recall_fscore_support"
   ]
  },
  {
   "cell_type": "code",
   "execution_count": 29,
   "id": "6a7a0abc",
   "metadata": {},
   "outputs": [],
   "source": [
    "from imblearn.under_sampling import CondensedNearestNeighbour"
   ]
  },
  {
   "cell_type": "code",
   "execution_count": 2,
   "id": "550ed123",
   "metadata": {},
   "outputs": [],
   "source": [
    "x_train = idx2numpy.convert_from_file('train-images.idx3-ubyte')\n",
    "y_train = idx2numpy.convert_from_file('train-labels.idx1-ubyte')"
   ]
  },
  {
   "cell_type": "code",
   "execution_count": 3,
   "id": "11fdf1c4",
   "metadata": {},
   "outputs": [],
   "source": [
    "x_test = idx2numpy.convert_from_file('t10k-images.idx3-ubyte')\n",
    "y_test = idx2numpy.convert_from_file('t10k-labels.idx1-ubyte')"
   ]
  },
  {
   "cell_type": "code",
   "execution_count": 4,
   "id": "8c3ff27d",
   "metadata": {},
   "outputs": [
    {
     "data": {
      "text/plain": [
       "(60000, 28, 28)"
      ]
     },
     "execution_count": 4,
     "metadata": {},
     "output_type": "execute_result"
    }
   ],
   "source": [
    "x_train.shape"
   ]
  },
  {
   "cell_type": "code",
   "execution_count": 5,
   "id": "f44ae325",
   "metadata": {},
   "outputs": [
    {
     "data": {
      "text/plain": [
       "(60000,)"
      ]
     },
     "execution_count": 5,
     "metadata": {},
     "output_type": "execute_result"
    }
   ],
   "source": [
    "y_train.shape"
   ]
  },
  {
   "cell_type": "code",
   "execution_count": 6,
   "id": "b4bb255f",
   "metadata": {},
   "outputs": [
    {
     "data": {
      "text/plain": [
       "(10000, 28, 28)"
      ]
     },
     "execution_count": 6,
     "metadata": {},
     "output_type": "execute_result"
    }
   ],
   "source": [
    "x_test.shape"
   ]
  },
  {
   "cell_type": "code",
   "execution_count": 7,
   "id": "c068709a",
   "metadata": {},
   "outputs": [
    {
     "data": {
      "text/plain": [
       "(10000,)"
      ]
     },
     "execution_count": 7,
     "metadata": {},
     "output_type": "execute_result"
    }
   ],
   "source": [
    "y_test.shape"
   ]
  },
  {
   "cell_type": "code",
   "execution_count": 8,
   "id": "dbf6e352",
   "metadata": {},
   "outputs": [],
   "source": [
    "x_train=[i.flatten() for i in list(x_train)]\n",
    "x_test=[i.flatten() for i in list(x_test)]"
   ]
  },
  {
   "cell_type": "markdown",
   "id": "06b9c2c5",
   "metadata": {},
   "source": [
    "### Full dataset training"
   ]
  },
  {
   "cell_type": "code",
   "execution_count": 137,
   "id": "2f2aee37",
   "metadata": {},
   "outputs": [
    {
     "data": {
      "text/html": [
       "<style>#sk-container-id-5 {color: black;background-color: white;}#sk-container-id-5 pre{padding: 0;}#sk-container-id-5 div.sk-toggleable {background-color: white;}#sk-container-id-5 label.sk-toggleable__label {cursor: pointer;display: block;width: 100%;margin-bottom: 0;padding: 0.3em;box-sizing: border-box;text-align: center;}#sk-container-id-5 label.sk-toggleable__label-arrow:before {content: \"▸\";float: left;margin-right: 0.25em;color: #696969;}#sk-container-id-5 label.sk-toggleable__label-arrow:hover:before {color: black;}#sk-container-id-5 div.sk-estimator:hover label.sk-toggleable__label-arrow:before {color: black;}#sk-container-id-5 div.sk-toggleable__content {max-height: 0;max-width: 0;overflow: hidden;text-align: left;background-color: #f0f8ff;}#sk-container-id-5 div.sk-toggleable__content pre {margin: 0.2em;color: black;border-radius: 0.25em;background-color: #f0f8ff;}#sk-container-id-5 input.sk-toggleable__control:checked~div.sk-toggleable__content {max-height: 200px;max-width: 100%;overflow: auto;}#sk-container-id-5 input.sk-toggleable__control:checked~label.sk-toggleable__label-arrow:before {content: \"▾\";}#sk-container-id-5 div.sk-estimator input.sk-toggleable__control:checked~label.sk-toggleable__label {background-color: #d4ebff;}#sk-container-id-5 div.sk-label input.sk-toggleable__control:checked~label.sk-toggleable__label {background-color: #d4ebff;}#sk-container-id-5 input.sk-hidden--visually {border: 0;clip: rect(1px 1px 1px 1px);clip: rect(1px, 1px, 1px, 1px);height: 1px;margin: -1px;overflow: hidden;padding: 0;position: absolute;width: 1px;}#sk-container-id-5 div.sk-estimator {font-family: monospace;background-color: #f0f8ff;border: 1px dotted black;border-radius: 0.25em;box-sizing: border-box;margin-bottom: 0.5em;}#sk-container-id-5 div.sk-estimator:hover {background-color: #d4ebff;}#sk-container-id-5 div.sk-parallel-item::after {content: \"\";width: 100%;border-bottom: 1px solid gray;flex-grow: 1;}#sk-container-id-5 div.sk-label:hover label.sk-toggleable__label {background-color: #d4ebff;}#sk-container-id-5 div.sk-serial::before {content: \"\";position: absolute;border-left: 1px solid gray;box-sizing: border-box;top: 0;bottom: 0;left: 50%;z-index: 0;}#sk-container-id-5 div.sk-serial {display: flex;flex-direction: column;align-items: center;background-color: white;padding-right: 0.2em;padding-left: 0.2em;position: relative;}#sk-container-id-5 div.sk-item {position: relative;z-index: 1;}#sk-container-id-5 div.sk-parallel {display: flex;align-items: stretch;justify-content: center;background-color: white;position: relative;}#sk-container-id-5 div.sk-item::before, #sk-container-id-5 div.sk-parallel-item::before {content: \"\";position: absolute;border-left: 1px solid gray;box-sizing: border-box;top: 0;bottom: 0;left: 50%;z-index: -1;}#sk-container-id-5 div.sk-parallel-item {display: flex;flex-direction: column;z-index: 1;position: relative;background-color: white;}#sk-container-id-5 div.sk-parallel-item:first-child::after {align-self: flex-end;width: 50%;}#sk-container-id-5 div.sk-parallel-item:last-child::after {align-self: flex-start;width: 50%;}#sk-container-id-5 div.sk-parallel-item:only-child::after {width: 0;}#sk-container-id-5 div.sk-dashed-wrapped {border: 1px dashed gray;margin: 0 0.4em 0.5em 0.4em;box-sizing: border-box;padding-bottom: 0.4em;background-color: white;}#sk-container-id-5 div.sk-label label {font-family: monospace;font-weight: bold;display: inline-block;line-height: 1.2em;}#sk-container-id-5 div.sk-label-container {text-align: center;}#sk-container-id-5 div.sk-container {/* jupyter's `normalize.less` sets `[hidden] { display: none; }` but bootstrap.min.css set `[hidden] { display: none !important; }` so we also need the `!important` here to be able to override the default hidden behavior on the sphinx rendered scikit-learn.org. See: https://github.com/scikit-learn/scikit-learn/issues/21755 */display: inline-block !important;position: relative;}#sk-container-id-5 div.sk-text-repr-fallback {display: none;}</style><div id=\"sk-container-id-5\" class=\"sk-top-container\"><div class=\"sk-text-repr-fallback\"><pre>KNeighborsClassifier(n_neighbors=1)</pre><b>In a Jupyter environment, please rerun this cell to show the HTML representation or trust the notebook. <br />On GitHub, the HTML representation is unable to render, please try loading this page with nbviewer.org.</b></div><div class=\"sk-container\" hidden><div class=\"sk-item\"><div class=\"sk-estimator sk-toggleable\"><input class=\"sk-toggleable__control sk-hidden--visually\" id=\"sk-estimator-id-5\" type=\"checkbox\" checked><label for=\"sk-estimator-id-5\" class=\"sk-toggleable__label sk-toggleable__label-arrow\">KNeighborsClassifier</label><div class=\"sk-toggleable__content\"><pre>KNeighborsClassifier(n_neighbors=1)</pre></div></div></div></div></div>"
      ],
      "text/plain": [
       "KNeighborsClassifier(n_neighbors=1)"
      ]
     },
     "execution_count": 137,
     "metadata": {},
     "output_type": "execute_result"
    }
   ],
   "source": [
    "model = KNeighborsClassifier(n_neighbors=1)\n",
    "model.fit(x_train, y_train)"
   ]
  },
  {
   "cell_type": "code",
   "execution_count": 138,
   "id": "a83fa569",
   "metadata": {},
   "outputs": [
    {
     "data": {
      "text/plain": [
       "0.9691"
      ]
     },
     "execution_count": 138,
     "metadata": {},
     "output_type": "execute_result"
    }
   ],
   "source": [
    "model.score(x_test,y_test)"
   ]
  },
  {
   "cell_type": "code",
   "execution_count": 139,
   "id": "3eeb0fc0",
   "metadata": {},
   "outputs": [],
   "source": [
    "y_pred = model.predict(x_test)"
   ]
  },
  {
   "cell_type": "code",
   "execution_count": 143,
   "id": "1f619c87",
   "metadata": {},
   "outputs": [
    {
     "data": {
      "text/plain": [
       "(0.9692024021594029, 0.9691, 0.9690691238431085, None)"
      ]
     },
     "execution_count": 143,
     "metadata": {},
     "output_type": "execute_result"
    }
   ],
   "source": [
    "precision_recall_fscore_support(y_test,y_pred,average='weighted')"
   ]
  },
  {
   "cell_type": "code",
   "execution_count": 131,
   "id": "55ade349",
   "metadata": {},
   "outputs": [
    {
     "data": {
      "text/plain": [
       "Counter({1: 6742,\n",
       "         7: 6265,\n",
       "         3: 6131,\n",
       "         2: 5958,\n",
       "         9: 5949,\n",
       "         0: 5923,\n",
       "         6: 5918,\n",
       "         8: 5851,\n",
       "         4: 5842,\n",
       "         5: 5421})"
      ]
     },
     "execution_count": 131,
     "metadata": {},
     "output_type": "execute_result"
    }
   ],
   "source": [
    "Counter(y_train)"
   ]
  },
  {
   "cell_type": "markdown",
   "id": "ab73e884",
   "metadata": {},
   "source": [
    "### Random Samples as prototypes"
   ]
  },
  {
   "cell_type": "code",
   "execution_count": 151,
   "id": "b1be7b6a",
   "metadata": {},
   "outputs": [],
   "source": [
    "ls = list(zip(x_train,y_train))\n",
    "def knn_random_sample(n_samples):\n",
    "    xy_rand = random.sample(ls,n_samples)\n",
    "    xr = [i[0] for i in xy_rand]\n",
    "    yr = [i[1] for i in xy_rand]\n",
    "    #print(Counter(yr))\n",
    "    model = KNeighborsClassifier(n_neighbors=1)\n",
    "    model.fit(xr, yr)\n",
    "    acc = model.score(x_test,y_test)\n",
    "    #y_pred = model.predict(x_test)\n",
    "    #p = precision_recall_fscore_support(y_test,y_pred,average='weighted')\n",
    "    return acc#,p"
   ]
  },
  {
   "cell_type": "code",
   "execution_count": 304,
   "id": "0f5eaee6",
   "metadata": {},
   "outputs": [
    {
     "name": "stdout",
     "output_type": "stream",
     "text": [
      "0.9476533333333331\n"
     ]
    }
   ],
   "source": [
    "a = 0\n",
    "for i in range(15):\n",
    "    a += knn_random_sample(10000)\n",
    "print(a/15)"
   ]
  },
  {
   "cell_type": "code",
   "execution_count": 116,
   "id": "4e1cebea",
   "metadata": {},
   "outputs": [
    {
     "name": "stdout",
     "output_type": "stream",
     "text": [
      "0.9363\n",
      "0.9327\n",
      "0.9368\n",
      "0.9327\n",
      "0.9331\n",
      "0.9335\n",
      "0.9361\n",
      "0.9345\n",
      "0.9353\n",
      "0.9362\n",
      "0.9325\n",
      "0.9348\n",
      "0.9359\n",
      "0.9371\n",
      "0.9352\n"
     ]
    }
   ],
   "source": [
    "for i in range(15):\n",
    "    a = knn_random_sample(5000)\n",
    "    print(a)"
   ]
  },
  {
   "cell_type": "code",
   "execution_count": 117,
   "id": "54b12aa1",
   "metadata": {},
   "outputs": [
    {
     "name": "stdout",
     "output_type": "stream",
     "text": [
      "0.8929\n",
      "0.8894\n",
      "0.8856\n",
      "0.8805\n",
      "0.8862\n",
      "0.8816\n",
      "0.8835\n",
      "0.8888\n",
      "0.8813\n",
      "0.8868\n",
      "0.8943\n",
      "0.8794\n",
      "0.8886\n",
      "0.8901\n",
      "0.8842\n"
     ]
    }
   ],
   "source": [
    "for i in range(15):\n",
    "    a = knn_random_sample(1000)\n",
    "    print(a)"
   ]
  },
  {
   "cell_type": "code",
   "execution_count": 16,
   "id": "2c459ff6",
   "metadata": {},
   "outputs": [
    {
     "data": {
      "text/plain": [
       "Counter({1: 6742,\n",
       "         7: 6265,\n",
       "         3: 6131,\n",
       "         2: 5958,\n",
       "         9: 5949,\n",
       "         0: 5923,\n",
       "         6: 5918,\n",
       "         8: 5851,\n",
       "         4: 5842,\n",
       "         5: 5421})"
      ]
     },
     "execution_count": 16,
     "metadata": {},
     "output_type": "execute_result"
    }
   ],
   "source": [
    "Counter(y_train)"
   ]
  },
  {
   "cell_type": "code",
   "execution_count": 126,
   "id": "eb3d22ee",
   "metadata": {},
   "outputs": [],
   "source": [
    "def knn_random_sample2(n_samples):\n",
    "    pro = []\n",
    "    pro_label = []\n",
    "    k = int(n_samples/10)\n",
    "\n",
    "    for i in range(10):\n",
    "        print(\"Getting \"+ str(k) + \" centers for label \"+str(i))\n",
    "        xy = [j for j in ls if j[1]==i]\n",
    "        xl = [j[0] for j in xy]\n",
    "        #print(xl)\n",
    "        #yl = [i[1] for i in xy]\n",
    "#         kmeans = KMeans(n_clusters=k,random_state=0, n_init=\"auto\").fit(xl)\n",
    "#         pro.extend(kmeans.cluster_centers_)\n",
    "        pro.extend(random.sample(xl,k))\n",
    "        pro_label.extend([i]*k)\n",
    "    return pro, pro_label"
   ]
  },
  {
   "cell_type": "code",
   "execution_count": 165,
   "id": "dcfab2c3",
   "metadata": {},
   "outputs": [
    {
     "name": "stdout",
     "output_type": "stream",
     "text": [
      "Getting 500 centers for label 0\n",
      "Getting 500 centers for label 1\n",
      "Getting 500 centers for label 2\n",
      "Getting 500 centers for label 3\n",
      "Getting 500 centers for label 4\n",
      "Getting 500 centers for label 5\n",
      "Getting 500 centers for label 6\n",
      "Getting 500 centers for label 7\n",
      "Getting 500 centers for label 8\n",
      "Getting 500 centers for label 9\n",
      "Training dataset size is 5000\n"
     ]
    },
    {
     "data": {
      "text/plain": [
       "0.938"
      ]
     },
     "execution_count": 165,
     "metadata": {},
     "output_type": "execute_result"
    }
   ],
   "source": [
    "pro, pro_label = knn_random_sample2(5000)\n",
    "pro_zip = list(zip(pro,pro_label))\n",
    "random.shuffle(pro_zip)\n",
    "print(\"Training dataset size is \"+str(len(pro_zip)))\n",
    "xr = [i[0] for i in pro_zip]\n",
    "yr = [i[1] for i in pro_zip]\n",
    "model = KNeighborsClassifier(n_neighbors=1)\n",
    "model.fit(xr, yr)\n",
    "acc = model.score(x_test,y_test)\n",
    "acc"
   ]
  },
  {
   "cell_type": "markdown",
   "id": "3eb47e43",
   "metadata": {},
   "source": [
    "### Approach 1"
   ]
  },
  {
   "cell_type": "code",
   "execution_count": 167,
   "id": "74fc1d92",
   "metadata": {},
   "outputs": [],
   "source": [
    "def get_prototypes1(k):\n",
    "    pro = []\n",
    "    pro_label = []\n",
    "\n",
    "    for i in range(10):\n",
    "        print(\"Getting \"+ str(k) + \" centers for label \"+str(i))\n",
    "        xy = [j for j in ls if j[1]==i]\n",
    "        xl = [j[0] for j in xy]\n",
    "        #yl = [i[1] for i in xy]\n",
    "        kmeans = KMeans(n_clusters=k,random_state=0, n_init=\"auto\").fit(xl)\n",
    "        pro.extend(kmeans.cluster_centers_)\n",
    "        pro_label.extend([i]*k)\n",
    "    return pro, pro_label"
   ]
  },
  {
   "cell_type": "code",
   "execution_count": 169,
   "id": "df2aaea4",
   "metadata": {},
   "outputs": [
    {
     "name": "stdout",
     "output_type": "stream",
     "text": [
      "Getting 1000 centers for label 0\n",
      "Getting 1000 centers for label 1\n",
      "Getting 1000 centers for label 2\n",
      "Getting 1000 centers for label 3\n",
      "Getting 1000 centers for label 4\n",
      "Getting 1000 centers for label 5\n",
      "Getting 1000 centers for label 6\n",
      "Getting 1000 centers for label 7\n",
      "Getting 1000 centers for label 8\n",
      "Getting 1000 centers for label 9\n",
      "Training dataset size is 10000\n"
     ]
    },
    {
     "data": {
      "text/plain": [
       "0.9685"
      ]
     },
     "execution_count": 169,
     "metadata": {},
     "output_type": "execute_result"
    }
   ],
   "source": [
    "M = 10000\n",
    "pro, pro_label = get_prototypes1(int(M/10))\n",
    "pro_zip = list(zip(pro,pro_label))\n",
    "random.shuffle(pro_zip)\n",
    "print(\"Training dataset size is \"+str(len(pro_zip)))\n",
    "xr = [i[0] for i in pro_zip]\n",
    "yr = [i[1] for i in pro_zip]\n",
    "model = KNeighborsClassifier(n_neighbors=1)\n",
    "model.fit(xr, yr)\n",
    "acc = model.score(x_test,y_test)\n",
    "acc"
   ]
  },
  {
   "cell_type": "code",
   "execution_count": 170,
   "id": "0b123072",
   "metadata": {},
   "outputs": [
    {
     "name": "stdout",
     "output_type": "stream",
     "text": [
      "Getting 500 centers for label 0\n",
      "Getting 500 centers for label 1\n",
      "Getting 500 centers for label 2\n",
      "Getting 500 centers for label 3\n",
      "Getting 500 centers for label 4\n",
      "Getting 500 centers for label 5\n",
      "Getting 500 centers for label 6\n",
      "Getting 500 centers for label 7\n",
      "Getting 500 centers for label 8\n",
      "Getting 500 centers for label 9\n",
      "Training dataset size is 5000\n"
     ]
    },
    {
     "data": {
      "text/plain": [
       "0.9669"
      ]
     },
     "execution_count": 170,
     "metadata": {},
     "output_type": "execute_result"
    }
   ],
   "source": [
    "M = 5000\n",
    "pro, pro_label = get_prototypes1(int(M/10))\n",
    "pro_zip = list(zip(pro,pro_label))\n",
    "random.shuffle(pro_zip)\n",
    "print(\"Training dataset size is \"+str(len(pro_zip)))\n",
    "xr = [i[0] for i in pro_zip]\n",
    "yr = [i[1] for i in pro_zip]\n",
    "model = KNeighborsClassifier(n_neighbors=1)\n",
    "model.fit(xr, yr)\n",
    "acc = model.score(x_test,y_test)\n",
    "acc"
   ]
  },
  {
   "cell_type": "code",
   "execution_count": 171,
   "id": "9910bbb8",
   "metadata": {},
   "outputs": [
    {
     "name": "stdout",
     "output_type": "stream",
     "text": [
      "Getting 100 centers for label 0\n",
      "Getting 100 centers for label 1\n",
      "Getting 100 centers for label 2\n",
      "Getting 100 centers for label 3\n",
      "Getting 100 centers for label 4\n",
      "Getting 100 centers for label 5\n",
      "Getting 100 centers for label 6\n",
      "Getting 100 centers for label 7\n",
      "Getting 100 centers for label 8\n",
      "Getting 100 centers for label 9\n",
      "Training dataset size is 1000\n"
     ]
    },
    {
     "data": {
      "text/plain": [
       "0.959"
      ]
     },
     "execution_count": 171,
     "metadata": {},
     "output_type": "execute_result"
    }
   ],
   "source": [
    "M = 1000\n",
    "pro, pro_label = get_prototypes1(int(M/10))\n",
    "pro_zip = list(zip(pro,pro_label))\n",
    "random.shuffle(pro_zip)\n",
    "print(\"Training dataset size is \"+str(len(pro_zip)))\n",
    "xr = [i[0] for i in pro_zip]\n",
    "yr = [i[1] for i in pro_zip]\n",
    "model = KNeighborsClassifier(n_neighbors=1)\n",
    "model.fit(xr, yr)\n",
    "acc = model.score(x_test,y_test)\n",
    "acc"
   ]
  },
  {
   "cell_type": "markdown",
   "id": "eb91cfbe",
   "metadata": {},
   "source": [
    "### Approach 2 - LVQ"
   ]
  },
  {
   "cell_type": "code",
   "execution_count": 272,
   "id": "b477cab1",
   "metadata": {},
   "outputs": [
    {
     "data": {
      "text/plain": [
       "10000"
      ]
     },
     "execution_count": 272,
     "metadata": {},
     "output_type": "execute_result"
    }
   ],
   "source": [
    "prototypes = []\n",
    "for i in range(10):\n",
    "    xy = [j for j in ls if j[1]==i]\n",
    "    prototypes.extend(random.sample(xy,1000))\n",
    "len(prototypes)"
   ]
  },
  {
   "cell_type": "code",
   "execution_count": 273,
   "id": "94d2fa1b",
   "metadata": {},
   "outputs": [],
   "source": [
    "#prototypes = pro_zip\n",
    "xp = [i[0] for i in prototypes]\n",
    "yp = [i[1] for i in prototypes]\n",
    "lr = 0.15\n",
    "lri = lr\n",
    "max_iter = 2000"
   ]
  },
  {
   "cell_type": "code",
   "execution_count": 274,
   "id": "b457b4fe",
   "metadata": {},
   "outputs": [],
   "source": [
    "for i in range(max_iter):\n",
    "    rs = random.randint(0, len(ls)-1)\n",
    "    x = ls[rs][0]\n",
    "    label = ls[rs][1]\n",
    "    model = KNeighborsClassifier(n_neighbors=1)\n",
    "    model.fit(xp, yp)\n",
    "    nn = model.kneighbors([x],return_distance = False)[0][0]\n",
    "    nn_label = yp[nn]\n",
    "#     print(nn_label)\n",
    "#     print(label)\n",
    "    if(label != nn_label):\n",
    "        ## Move protype away\n",
    "#         print(\"moving away\")\n",
    "        xp[nn] = xp[nn] - lr*(x-xp[nn])\n",
    "    else:\n",
    "        ## Move prototype closer\n",
    "#         print(\"moving closer\")\n",
    "        xp[nn] = xp[nn] + lr*(x-xp[nn])\n",
    "        \n",
    "#     print(x_train[i])\n",
    "#     print(xp[nn])\n",
    "    lr = lr - lri/max_iter"
   ]
  },
  {
   "cell_type": "code",
   "execution_count": 303,
   "id": "dcbc4577",
   "metadata": {},
   "outputs": [
    {
     "name": "stdout",
     "output_type": "stream",
     "text": [
      "0.9578\n"
     ]
    }
   ],
   "source": [
    "model = KNeighborsClassifier(n_neighbors=1)\n",
    "model.fit(xp, yp)\n",
    "acc = model.score(x_test,y_test)\n",
    "acc"
   ]
  },
  {
   "cell_type": "markdown",
   "id": "f27f191e",
   "metadata": {},
   "source": [
    "### Approach 3 CNN"
   ]
  },
  {
   "cell_type": "code",
   "execution_count": 276,
   "id": "390cef89",
   "metadata": {},
   "outputs": [],
   "source": [
    "def cnn_protoype(M):\n",
    "    random.shuffle(ls)\n",
    "    pr = random.sample(ls,1000)#[ls[0]]\n",
    "    for i in range(len(ls)):\n",
    "        #print(i)\n",
    "        if(len(pr)>=M): break\n",
    "        #pred = predict(ls[i][0])\n",
    "        \n",
    "        xp = [i[0] for i in pr]\n",
    "        yp = [i[1] for i in pr]\n",
    "        model = KNeighborsClassifier(n_neighbors=1)\n",
    "        model.fit(xp, yp)\n",
    "        nn = model.kneighbors([ls[i][0]],return_distance = False)[0][0]\n",
    "        nn_label = yp[nn]\n",
    "        \n",
    "        if(nn_label != ls[i][1]):\n",
    "            pr.append(ls[i])\n",
    "    return pr"
   ]
  },
  {
   "cell_type": "code",
   "execution_count": 302,
   "id": "dfae4690",
   "metadata": {},
   "outputs": [
    {
     "name": "stdout",
     "output_type": "stream",
     "text": [
      "5003\n"
     ]
    }
   ],
   "source": [
    "ls_cnnp = cnn_protoype(10000)\n",
    "len(ls_cnnp)"
   ]
  },
  {
   "cell_type": "code",
   "execution_count": 279,
   "id": "4e40db61",
   "metadata": {},
   "outputs": [],
   "source": [
    "def get_prototypes1(k,yp):\n",
    "    pro = []\n",
    "    pro_label = []\n",
    "\n",
    "    for i in range(10):\n",
    "        c = k-Counter(yp)[i]\n",
    "        if(c<=0): continue\n",
    "        print(\"Getting \"+ str(c) + \" centers for label \"+str(i))\n",
    "        xy = [j for j in ls if j[1]==i]\n",
    "        xl = [j[0] for j in xy]\n",
    "        #yl = [i[1] for i in xy]\n",
    "        kmeans = KMeans(n_clusters=c,random_state=0, n_init=\"auto\").fit(xl)\n",
    "        pro.extend(kmeans.cluster_centers_)\n",
    "        pro_label.extend([i]*c)\n",
    "    return pro, pro_label"
   ]
  },
  {
   "cell_type": "code",
   "execution_count": 281,
   "id": "36c54726",
   "metadata": {},
   "outputs": [
    {
     "name": "stdout",
     "output_type": "stream",
     "text": [
      "Getting 734 centers for label 0\n",
      "Getting 798 centers for label 1\n",
      "Getting 431 centers for label 2\n",
      "Getting 306 centers for label 3\n",
      "Getting 416 centers for label 4\n",
      "Getting 387 centers for label 5\n",
      "Getting 665 centers for label 6\n",
      "Getting 516 centers for label 7\n",
      "Getting 152 centers for label 8\n",
      "Getting 286 centers for label 9\n"
     ]
    },
    {
     "data": {
      "text/plain": [
       "0.9676"
      ]
     },
     "execution_count": 281,
     "metadata": {},
     "output_type": "execute_result"
    }
   ],
   "source": [
    "pro, pro_label = get_prototypes1(1000,yp)\n",
    "xp.extend(pro)\n",
    "yp.extend(pro_label)\n",
    "model = KNeighborsClassifier(n_neighbors=1)\n",
    "model.fit(xp, yp)\n",
    "acc = model.score(x_test,y_test)\n",
    "acc"
   ]
  }
 ],
 "metadata": {
  "kernelspec": {
   "display_name": "Python 3 (ipykernel)",
   "language": "python",
   "name": "python3"
  },
  "language_info": {
   "codemirror_mode": {
    "name": "ipython",
    "version": 3
   },
   "file_extension": ".py",
   "mimetype": "text/x-python",
   "name": "python",
   "nbconvert_exporter": "python",
   "pygments_lexer": "ipython3",
   "version": "3.11.5"
  }
 },
 "nbformat": 4,
 "nbformat_minor": 5
}
